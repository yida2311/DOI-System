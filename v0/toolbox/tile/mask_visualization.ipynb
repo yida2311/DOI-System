{
 "cells": [
  {
   "cell_type": "markdown",
   "metadata": {},
   "source": [
    "# anno_mask vis"
   ]
  },
  {
   "cell_type": "code",
   "execution_count": 8,
   "metadata": {},
   "outputs": [
    {
     "data": {
      "image/png": "[encoded data removed]",
      "text/plain": [
       "<Figure size 720x720 with 1 Axes>"
      ]
     },
     "metadata": {
      "needs_background": "light"
     },
     "output_type": "display_data"
    }
   ],
   "source": [
    "import matplotlib.pyplot as plt\n",
    "from PIL import Image\n",
    "import numpy as np\n",
    "\n",
    "root = '/media/ldy/7E1CA94545711AE6/OSCC/mask_5x/anno_mask/'\n",
    "ex = '_20190403080921.png'\n",
    "\n",
    "img_path = root + ex\n",
    "\n",
    "img = np.array(Image.open(img_path), dtype='uint8')\n",
    "plt.figure(figsize=(10,10))\n",
    "plt.imshow(img)\n",
    "plt.show()"
   ]
  },
  {
   "cell_type": "markdown",
   "metadata": {},
   "source": [
    "# std_mask vis"
   ]
  },
  {
   "cell_type": "code",
   "execution_count": 9,
   "metadata": {},
   "outputs": [
    {
     "data": {
      "image/png": "[encoded data removed]",
      "text/plain": [
       "<Figure size 432x288 with 1 Axes>"
      ]
     },
     "metadata": {
      "needs_background": "light"
     },
     "output_type": "display_data"
    }
   ],
   "source": [
    "import matplotlib.pyplot as plt\n",
    "from PIL import Image\n",
    "import numpy as np\n",
    "\n",
    "root = '/media/ldy/7E1CA94545711AE6/OSCC/mask_5x/std_mask/'\n",
    "ex = '_20190403080921.png'\n",
    "\n",
    "img_path = root + ex\n",
    "\n",
    "img = np.array(Image.open(img_path), dtype='uint8')\n",
    "plt.imshow(img)\n",
    "plt.show()"
   ]
  },
  {
   "cell_type": "markdown",
   "metadata": {},
   "source": [
    "# std_mask_rgb gen\n",
    "\n"
   ]
  },
  {
   "cell_type": "code",
   "execution_count": 34,
   "metadata": {},
   "outputs": [],
   "source": [
    "def class_to_RGB(label):\n",
    "    h, w = label.shape[0], label.shape[1]\n",
    "    colmap = np.zeros(shape=(h, w, 3)).astype('uint8')\n",
    "\n",
    "    indices = np.where(label == 1)\n",
    "    colmap[indices[0].tolist(), indices[1].tolist(), :] = [255, 0, 0]\n",
    "    indices = np.where(label == 2)\n",
    "    colmap[indices[0].tolist(), indices[1].tolist(), :] = [0, 255, 0]\n",
    "    indices = np.where(label == 3)\n",
    "    colmap[indices[0].tolist(), indices[1].tolist(), :] = [0, 0, 255]\n",
    "    indices = np.where(label == 0)\n",
    "    colmap[indices[0].tolist(), indices[1].tolist(), :] = [0, 0, 0]\n",
    "\n",
    "    return colmap"
   ]
  },
  {
   "cell_type": "code",
   "execution_count": 11,
   "metadata": {},
   "outputs": [
    {
     "name": "stdout",
     "output_type": "stream",
     "text": [
      "_20190403101027.png\n",
      "_20190404140854.png\n",
      "_20190412130816.png\n",
      "_20190718210408.png\n",
      "_20190403080921.png\n",
      "_20190403080932.png\n",
      "_20190403080952.png\n",
      "_20190403081003.png\n",
      "_20190403081013.png\n",
      "_20190403083910.png\n",
      "_20190403083921.png\n",
      "_20190403083941.png\n",
      "_20190403091239.png\n",
      "_20190403091249.png\n",
      "_20190403091259.png\n",
      "_20190403091310.png\n",
      "_20190403091320.png\n",
      "_20190403094116.png\n",
      "_20190403094156.png\n",
      "_20190403094206.png\n",
      "_20190403101908.png\n",
      "_20190403101928.png\n",
      "_20190403101939.png\n",
      "_20190403101949.png\n",
      "_20190403101959.png\n",
      "_20190403115136.png\n",
      "_20190403115146.png\n",
      "_20190403115157.png\n",
      "_20190403115208.png\n",
      "_20190404134831.png\n",
      "_20190404134841.png\n",
      "_20190404134923.png\n",
      "_20190404140803.png\n",
      "_20190404140813.png\n",
      "_20190404140823.png\n",
      "_20190404140844.png\n",
      "_20190404173751.png\n",
      "_20190409135946.png\n",
      "_20190409141622.png\n",
      "_20190409144119.png\n",
      "_20190409144129.png\n",
      "_20190409152251.png\n",
      "_20190409182931.png\n",
      "_20190409183934.png\n",
      "_20190412091216.png\n",
      "_20190412091226.png\n",
      "_20190412091236.png\n",
      "_20190412112805.png\n",
      "_20190412112816.png\n",
      "_20190412112827.png\n",
      "_20190412130756.png\n",
      "_20190412130806.png\n",
      "_20190412130826.png\n",
      "_20190412130836.png\n",
      "_20190412133705.png\n",
      "_20190412133715.png\n",
      "_20190412133725.png\n",
      "_20190412144040.png\n",
      "_20190718200921.png\n",
      "_20190718200932.png\n",
      "_20190718200940.png\n",
      "_20190718200949.png\n",
      "_20190718200957.png\n",
      "_20190718203748.png\n",
      "_20190718203759.png\n",
      "_20190718203809.png\n",
      "_20190718203820.png\n",
      "_20190718210348.png\n",
      "_20190718210418.png\n",
      "_20190718210428.png\n",
      "_20190718212026.png\n",
      "_20190718212036.png\n",
      "_20190718212046.png\n",
      "_20190718212056.png\n",
      "_20190718212106.png\n",
      "_20190718213907.png\n",
      "_20190718213917.png\n",
      "_20190718213926.png\n",
      "_20190718213936.png\n",
      "_20190718215730.png\n",
      "_20190718215740.png\n",
      "_20190718215800.png\n",
      "_20190719181431.png\n",
      "_20190719181439.png\n",
      "_20190719181450.png\n",
      "_20190719181501.png\n",
      "_20190719183613.png\n"
     ]
    }
   ],
   "source": [
    "import os\n",
    "\n",
    "src = '/media/ldy/7E1CA94545711AE6/OSCC/mask_5x/std_mask/'\n",
    "save_dir = '/media/ldy/7E1CA94545711AE6/OSCC/mask_5x/std_mask_rgb'\n",
    "\n",
    "if not os.path.exists(save_dir):\n",
    "    os.makedirs(save_dir)\n",
    "    \n",
    "img_list = os.listdir(src)\n",
    "for img in img_list:\n",
    "    print(img)\n",
    "    mask_path = os.path.join(src, img)\n",
    "    save_path = os.path.join(save_dir, img)\n",
    "    \n",
    "    mask = np.array(Image.open(mask_path), dtype='uint8')\n",
    "    rgb = class_to_RGB(mask)\n",
    "    rgb = Image.fromarray(rgb)\n",
    "    rgb.save(save_path)"
   ]
  },
  {
   "cell_type": "markdown",
   "metadata": {},
   "source": [
    "# patch mask generate"
   ]
  },
  {
   "cell_type": "markdown",
   "metadata": {},
   "source": [
    "## mask"
   ]
  },
  {
   "cell_type": "code",
   "execution_count": 62,
   "metadata": {},
   "outputs": [],
   "source": [
    "import numpy as np\n",
    "import os\n",
    "\n",
    "\n",
    "def mask_generate(slide, size, meta, data_dir):\n",
    "    mask = np.zeros(size, dtype='uint8')\n",
    "    slide_dir = os.path.join(data_dir, slide)\n",
    "    \n",
    "    for patch in os.listdir(slide_dir):\n",
    "        sp = patch\n",
    "        index = meta[meta['image_id']==sp].index\n",
    "        row = int(meta['row'][index])\n",
    "        col = int(meta['col'][index])\n",
    "        target = int(meta['target'][index])\n",
    "        \n",
    "#         target = 1 if target == 1 else 2\n",
    "        mask[row, col] = target\n",
    "    \n",
    "    return mask"
   ]
  },
  {
   "cell_type": "code",
   "execution_count": 73,
   "metadata": {},
   "outputs": [
    {
     "name": "stdout",
     "output_type": "stream",
     "text": [
      "_20190404173751\n",
      "_20190719181439\n",
      "_20190412091226\n",
      "_20190404140844\n",
      "_20190403094206\n",
      "_20190403101928\n",
      "_20190718213917\n",
      "_20190409144119\n",
      "_20190403083910\n",
      "_20190409135946\n",
      "_20190412130836\n",
      "_20190409183934\n",
      "_20190412091216\n",
      "_20190719183613\n",
      "_20190718213907\n",
      "_20190403115136\n",
      "_20190718213936\n",
      "_20190403094116\n",
      "_20190719181431\n",
      "_20190718212036\n",
      "_20190718200921\n",
      "_20190719181501\n",
      "_20190412130806\n",
      "_20190404134841\n",
      "_20190718203748\n",
      "_20190718200940\n",
      "_20190412144040\n"
     ]
    }
   ],
   "source": [
    "import json\n",
    "from PIL import Image\n",
    "import pandas as pd\n",
    "\n",
    "task = 'val_bd_512'\n",
    "\n",
    "meta_path = '/media/ldy/e5a10f4e-18fd-4656-80d8-055bc4078655/OSCC-Tile/5x_512/tile_info_' + 'val_512' + '.json'\n",
    "csv_path = '/media/ldy/e5a10f4e-18fd-4656-80d8-055bc4078655/OSCC-Tile/5x_512/' + task + '.csv'\n",
    "data_dir = '/media/ldy/e5a10f4e-18fd-4656-80d8-055bc4078655/OSCC-Tile/5x_512/' + task \n",
    "mask_dir = '/media/ldy/e5a10f4e-18fd-4656-80d8-055bc4078655/OSCC-Tile/slide/mask/' + task  + '_mask_5x'\n",
    "vis_dir = '/media/ldy/e5a10f4e-18fd-4656-80d8-055bc4078655/OSCC-Tile/slide/vis/' + task + '_vis_5x'\n",
    "\n",
    "if not os.path.exists(mask_dir):\n",
    "    os.makedirs(mask_dir)\n",
    "if not os.path.exists(vis_dir):\n",
    "    os.makedirs(vis_dir)\n",
    "\n",
    "with open(meta_path, 'r') as f:\n",
    "    cnt = json.load(f)\n",
    "\n",
    "meta = pd.read_csv(csv_path)\n",
    "\n",
    "for slide in os.listdir(data_dir):\n",
    "    print(slide)\n",
    "    size = cnt[slide]['tiles']\n",
    "    mask = mask_generate(slide, size, meta, data_dir)\n",
    "    vis = class_to_RGB(mask)\n",
    "    \n",
    "    mask_pil = Image.fromarray(mask)\n",
    "    vis_pil = Image.fromarray(vis).convert('RGB')\n",
    "    \n",
    "    mask_pil.save(os.path.join(mask_dir, slide+'.png'))\n",
    "    vis_pil.save(os.path.join(vis_dir, slide+'.png'))"
   ]
  },
  {
   "cell_type": "markdown",
   "metadata": {},
   "source": [
    "## resize"
   ]
  },
  {
   "cell_type": "code",
   "execution_count": 74,
   "metadata": {},
   "outputs": [
    {
     "name": "stdout",
     "output_type": "stream",
     "text": [
      "train_512_vis_5x\n",
      "train_224_vis_5x\n",
      "train_bd_512_vis_5x\n",
      "val_512_vis_5x\n",
      "val_224_vis_5x\n",
      "val_bd_512_vis_5x\n",
      "train_bd_224_vis_5x\n",
      "val_bd_224_vis_5x\n"
     ]
    }
   ],
   "source": [
    "src = '/media/ldy/e5a10f4e-18fd-4656-80d8-055bc4078655/OSCC-Tile/slide/vis/'\n",
    "dst = '/media/ldy/e5a10f4e-18fd-4656-80d8-055bc4078655/OSCC-Tile/slide/vis_x16/'\n",
    "factor = 16\n",
    "\n",
    "for item in os.listdir(src):\n",
    "    src_item_dir = os.path.join(src, item)\n",
    "    dst_item_dir = os.path.join(dst, item)\n",
    "    if not os.path.exists(dst_item_dir):\n",
    "        os.makedirs(dst_item_dir)\n",
    "    print(item)\n",
    "    for c in os.listdir(src_item_dir):\n",
    "        img = Image.open(os.path.join(src_item_dir, c))\n",
    "        w, h = img.size\n",
    "        img = img.resize((w*factor, h*factor), resample=Image.BILINEAR)\n",
    "        img.save(os.path.join(dst_item_dir, c))"
   ]
  },
  {
   "cell_type": "code",
   "execution_count": null,
   "metadata": {},
   "outputs": [],
   "source": []
  }
 ],
 "metadata": {
  "kernelspec": {
   "display_name": "Pytorch",
   "language": "python",
   "name": "pytorch"
  },
  "language_info": {
   "codemirror_mode": {
    "name": "ipython",
    "version": 3
   },
   "file_extension": ".py",
   "mimetype": "text/x-python",
   "name": "python",
   "nbconvert_exporter": "python",
   "pygments_lexer": "ipython3",
   "version": "3.6.7"
  }
 },
 "nbformat": 4,
 "nbformat_minor": 2
}
